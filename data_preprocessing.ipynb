{
 "cells": [
  {
   "cell_type": "code",
   "execution_count": 1,
   "id": "2028504c",
   "metadata": {},
   "outputs": [],
   "source": [
    "from ipynb.fs.full.utility import *"
   ]
  },
  {
   "cell_type": "code",
   "execution_count": 2,
   "id": "33998478",
   "metadata": {},
   "outputs": [],
   "source": [
    "%matplotlib inline\n",
    "import numpy as np, scipy, matplotlib.pyplot as plt, IPython.display as ipd\n",
    "import librosa, librosa.display\n",
    "from sklearn.preprocessing import normalize\n",
    "from sklearn.decomposition import PCA\n",
    "from scipy import stats\n",
    "#import stanford_mir; stanford_mir.init()\n",
    "\n",
    "import torch\n",
    "import torch.nn as nn\n",
    "import torchvision"
   ]
  },
  {
   "cell_type": "code",
   "execution_count": 3,
   "id": "7c024272",
   "metadata": {},
   "outputs": [],
   "source": [
    "def combineLabel(arr, lab):\n",
    "    label = []\n",
    "    for index in range(arr.shape[0]):\n",
    "        time = (index+0.5) * 512 /11025\n",
    "        for item in lab:\n",
    "            if time > item[1]:\n",
    "                continue\n",
    "            else:\n",
    "                label.append(item[2])\n",
    "                break\n",
    "    return arr[:len(label)], np.array(label)"
   ]
  },
  {
   "cell_type": "code",
   "execution_count": 4,
   "id": "1c499482",
   "metadata": {},
   "outputs": [],
   "source": [
    "import numpy as np\n",
    "def NormalizeData(data):\n",
    "    return (data - np.min(data)) / (np.max(data) - np.min(data))"
   ]
  },
  {
   "cell_type": "code",
   "execution_count": 5,
   "id": "18a2231f",
   "metadata": {},
   "outputs": [],
   "source": [
    "import os\n",
    "def root(x):\n",
    "    return os.path.splitext(os.path.basename(x))[0]"
   ]
  },
  {
   "cell_type": "code",
   "execution_count": 6,
   "id": "37b72d7c",
   "metadata": {},
   "outputs": [],
   "source": [
    "data = None\n",
    "data_len = []\n",
    "def create_npzs():\n",
    "    for i, (audio, anno) in enumerate(zip(audios, annos)):\n",
    "       # try:\n",
    "        # load song\n",
    "        x, sr = librosa.load(audio, sr=11025)\n",
    "        fmin = librosa.midi_to_hz(45)\n",
    "\n",
    "        # get cqt, lab\n",
    "        C = librosa.cqt(x, sr=sr, fmin=fmin, n_bins=180, bins_per_octave=36)\n",
    "        if (i == 0):\n",
    "            data = C\n",
    "        else:\n",
    "            data = np.append(data, C, axis=1)\n",
    "        data_len.append(C.shape[0])\n",
    "        print(str(i) + ': ' + str(C.shape[1]))\n",
    "    \n",
    "    pca = PCA(.99)\n",
    "    prinComp = pca.fit_transform(np.abs(data).T)\n",
    "    norm = stats.zscore(prinComp)\n",
    "    \n",
    "    for i, anno in enumerate(annos):\n",
    "        lab = loadLab(anno)\n",
    "        \n",
    "        cqt = data[:data_len[i]]\n",
    "\n",
    "        # combine the label\n",
    "        cqt, label = combineLabel(norm, lab)\n",
    "\n",
    "        # get the chord idx\n",
    "        V = np.vectorize(commonChordToIdx)\n",
    "        chordidx = V(label)\n",
    "\n",
    "        # save as npz\n",
    "        path = '/userhome/cs2/u3556571/8th/npzs/' + root(anno)\n",
    "        np.savez_compressed(path, cqt=cqt, label=chordidx)\n",
    "\n",
    "        print('Finish ' + str(i))\n",
    "        \n",
    "        data = np.delete(data, range(data_len[i]), axis=1)\n",
    "        '''except Exception as e:\n",
    "            print('Skip ' + str(i) + str(e))\n",
    "            continue'''"
   ]
  },
  {
   "cell_type": "code",
   "execution_count": null,
   "id": "5b668226",
   "metadata": {},
   "outputs": [
    {
     "name": "stdout",
     "output_type": "stream",
     "text": [
      "0: 3786\n"
     ]
    }
   ],
   "source": [
    "create_npzs()"
   ]
  }
 ],
 "metadata": {
  "kernelspec": {
   "display_name": "Python 3 (ipykernel)",
   "language": "python",
   "name": "python3"
  },
  "language_info": {
   "codemirror_mode": {
    "name": "ipython",
    "version": 3
   },
   "file_extension": ".py",
   "mimetype": "text/x-python",
   "name": "python",
   "nbconvert_exporter": "python",
   "pygments_lexer": "ipython3",
   "version": "3.9.13"
  }
 },
 "nbformat": 4,
 "nbformat_minor": 5
}
