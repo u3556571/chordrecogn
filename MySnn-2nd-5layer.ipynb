{
 "cells": [
  {
   "cell_type": "code",
   "execution_count": 1,
   "id": "5dc0c757",
   "metadata": {},
   "outputs": [],
   "source": [
    "# import custom library\n",
    "from ipynb.fs.full.utility import *\n",
    "from ipynb.fs.full.dataset import *"
   ]
  },
  {
   "cell_type": "code",
   "execution_count": 2,
   "id": "15692029",
   "metadata": {},
   "outputs": [],
   "source": [
    "import os\n",
    "\n",
    "import numpy as np\n",
    "import matplotlib.pyplot as plt\n",
    "from matplotlib.gridspec import GridSpec\n",
    "import seaborn as sns\n",
    "\n",
    "import torch\n",
    "import torch.nn as nn\n",
    "import torchvision"
   ]
  },
  {
   "cell_type": "code",
   "execution_count": 3,
   "id": "afaa7858",
   "metadata": {},
   "outputs": [
    {
     "data": {
      "text/plain": [
       "'1.12.1'"
      ]
     },
     "execution_count": 3,
     "metadata": {},
     "output_type": "execute_result"
    }
   ],
   "source": [
    "torch.__version__"
   ]
  },
  {
   "cell_type": "code",
   "execution_count": 4,
   "id": "8a1e3202",
   "metadata": {},
   "outputs": [],
   "source": [
    "# The coarse network structure is dicated by the Fashion MNIST dataset. \n",
    "nb_inputs  = 72\n",
    "nb_hidden1 = 144\n",
    "nb_hidden2 = 216\n",
    "nb_hidden3 = 144\n",
    "nb_outputs = 206\n",
    "\n",
    "time_step = 1e-3\n",
    "nb_steps  = 100\n",
    "\n",
    "batch_size = 512\n",
    "\n",
    "seed = 0"
   ]
  },
  {
   "cell_type": "code",
   "execution_count": 5,
   "id": "c3aad660",
   "metadata": {},
   "outputs": [],
   "source": [
    "dtype = torch.float\n",
    "\n",
    "# Check whether a GPU is available\n",
    "if torch.cuda.is_available():\n",
    "    device = torch.device(\"cuda\")     \n",
    "else:\n",
    "    device = torch.device(\"cpu\")"
   ]
  },
  {
   "cell_type": "code",
   "execution_count": 6,
   "id": "d3dab629",
   "metadata": {},
   "outputs": [],
   "source": [
    "allCQT, allLabel = get_dataset(npzs_2nd)"
   ]
  },
  {
   "cell_type": "code",
   "execution_count": 7,
   "id": "d7e79b1f",
   "metadata": {},
   "outputs": [
    {
     "data": {
      "text/plain": [
       "(1650135, 72)"
      ]
     },
     "execution_count": 7,
     "metadata": {},
     "output_type": "execute_result"
    }
   ],
   "source": [
    "allCQT.shape"
   ]
  },
  {
   "cell_type": "code",
   "execution_count": 8,
   "id": "b419b452",
   "metadata": {},
   "outputs": [
    {
     "data": {
      "text/plain": [
       "(1650135,)"
      ]
     },
     "execution_count": 8,
     "metadata": {},
     "output_type": "execute_result"
    }
   ],
   "source": [
    "allLabel.shape"
   ]
  },
  {
   "cell_type": "code",
   "execution_count": 9,
   "id": "3423792b",
   "metadata": {},
   "outputs": [],
   "source": [
    "x_train, x_val, x_test, y_train, y_val, y_test = partitionDataset(allCQT, allLabel)"
   ]
  },
  {
   "cell_type": "code",
   "execution_count": 10,
   "id": "62d2199b",
   "metadata": {},
   "outputs": [
    {
     "data": {
      "text/plain": [
       "(1320108, 72)"
      ]
     },
     "execution_count": 10,
     "metadata": {},
     "output_type": "execute_result"
    }
   ],
   "source": [
    "x_train.shape"
   ]
  },
  {
   "cell_type": "code",
   "execution_count": 11,
   "id": "f85e76a1",
   "metadata": {},
   "outputs": [
    {
     "data": {
      "text/plain": [
       "(165013, 72)"
      ]
     },
     "execution_count": 11,
     "metadata": {},
     "output_type": "execute_result"
    }
   ],
   "source": [
    "x_val.shape"
   ]
  },
  {
   "cell_type": "code",
   "execution_count": 12,
   "id": "83757dac",
   "metadata": {},
   "outputs": [
    {
     "data": {
      "text/plain": [
       "(165014, 72)"
      ]
     },
     "execution_count": 12,
     "metadata": {},
     "output_type": "execute_result"
    }
   ],
   "source": [
    "x_test.shape"
   ]
  },
  {
   "cell_type": "code",
   "execution_count": 17,
   "id": "350ef076",
   "metadata": {},
   "outputs": [],
   "source": [
    "def current2firing_time(x, tau=20, thr=0.2, tmax=1.0, epsilon=1e-7):\n",
    "    \"\"\" Computes first firing time latency for a current input x assuming the charge time of a current based LIF neuron.\n",
    "\n",
    "    Args:\n",
    "    x -- The \"current\" values\n",
    "\n",
    "    Keyword args:\n",
    "    tau -- The membrane time constant of the LIF neuron to be charged\n",
    "    thr -- The firing threshold value \n",
    "    tmax -- The maximum time returned \n",
    "    epsilon -- A generic (small) epsilon > 0\n",
    "\n",
    "    Returns:\n",
    "    Time to first spike for each \"current\" x\n",
    "    \"\"\"\n",
    "    idx = x<thr\n",
    "    x = np.clip(x,thr+epsilon,1e9)\n",
    "    T = tau*np.log(x/(x-thr))\n",
    "    T[idx] = tmax\n",
    "    return T\n",
    " \n",
    "\n",
    "def sparse_data_generator(X, y, x_v, y_v, batch_size, nb_steps, nb_units, shuffle=True ):\n",
    "    \"\"\" This generator takes datasets in analog format and generates spiking network input as sparse tensors. \n",
    "\n",
    "    Args:\n",
    "        X: The data ( sample x event x 2 ) the last dim holds (time,neuron) tuples\n",
    "        y: The labels\n",
    "    \"\"\"\n",
    "\n",
    "    labels_ = np.array(y,dtype=int)\n",
    "    number_of_batches = len(X)//batch_size\n",
    "    sample_index = np.arange(len(X))\n",
    "    \n",
    "    labels_v = np.array(y_v,dtype=int)\n",
    "    batch_size_v = len(x_v)//number_of_batches\n",
    "    sample_index_v = np.arange(len(x_v))\n",
    "\n",
    "    # compute discrete firing times\n",
    "    tau_eff = 20e-3/time_step\n",
    "    firing_times = np.array(current2firing_time(X, tau=tau_eff, tmax=nb_steps), dtype=int)\n",
    "    unit_numbers = np.arange(nb_units)\n",
    "    \n",
    "    firing_times_v = np.array(current2firing_time(x_v, tau=tau_eff, tmax=nb_steps), dtype=int)\n",
    "    \n",
    "    \n",
    "    if shuffle:\n",
    "        np.random.shuffle(sample_index)\n",
    "        np.random.shuffle(sample_index_v)\n",
    "\n",
    "    total_batch_count = 0\n",
    "    counter = 0\n",
    "    while counter<number_of_batches:\n",
    "        batch_index = sample_index[batch_size*counter:batch_size*(counter+1)]\n",
    "        batch_index_v = sample_index_v[batch_size_v*counter:batch_size_v*(counter+1)]\n",
    "\n",
    "        coo = [ [] for i in range(3) ]\n",
    "        for bc,idx in enumerate(batch_index):\n",
    "            c = firing_times[idx]<nb_steps\n",
    "            times, units = firing_times[idx][c], unit_numbers[c]\n",
    "\n",
    "            batch = [bc for _ in range(len(times))]\n",
    "            coo[0].extend(batch)\n",
    "            coo[1].extend(times)\n",
    "            coo[2].extend(units)\n",
    "\n",
    "        i = torch.LongTensor(coo).to(device)\n",
    "        v = torch.FloatTensor(np.ones(len(coo[0]))).to(device)\n",
    "        \n",
    "        coo_v = [ [] for i in range(3) ]\n",
    "        for bc,idx in enumerate(batch_index_v):\n",
    "            c = firing_times_v[idx]<nb_steps\n",
    "            times, units = firing_times_v[idx][c], unit_numbers[c]\n",
    "\n",
    "            batch = [bc for _ in range(len(times))]\n",
    "            coo_v[0].extend(batch)\n",
    "            coo_v[1].extend(times)\n",
    "            coo_v[2].extend(units)\n",
    "\n",
    "        i_v = torch.LongTensor(coo_v).to(device)\n",
    "        v_v = torch.FloatTensor(np.ones(len(coo_v[0]))).to(device)\n",
    "    \n",
    "        X_batch = torch.sparse.FloatTensor(i, v, torch.Size([batch_size,nb_steps,nb_units])).to(device)\n",
    "        y_batch = torch.tensor(labels_[batch_index],device=device)\n",
    "        x_v_batch = torch.sparse.FloatTensor(i_v, v_v, torch.Size([batch_size_v,nb_steps,nb_units])).to(device)\n",
    "        y_v_batch = torch.tensor(labels_v[batch_index_v],device=device)\n",
    "\n",
    "        yield X_batch.to(device=device), y_batch.to(device=device), x_v_batch.to(device=device), y_v_batch\n",
    "\n",
    "        counter += 1"
   ]
  },
  {
   "cell_type": "code",
   "execution_count": 18,
   "id": "362ec426",
   "metadata": {},
   "outputs": [],
   "source": [
    "tau_mem = 10e-3\n",
    "tau_syn = 5e-3\n",
    "\n",
    "alpha   = float(np.exp(-time_step/tau_syn))\n",
    "beta    = float(np.exp(-time_step/tau_mem))"
   ]
  },
  {
   "cell_type": "code",
   "execution_count": 19,
   "id": "556c4e10",
   "metadata": {},
   "outputs": [
    {
     "name": "stdout",
     "output_type": "stream",
     "text": [
      "init done\n"
     ]
    }
   ],
   "source": [
    "weight_scale = 7*(1.0-beta) # this should give us some spikes to begin with\n",
    "\n",
    "w1 = torch.empty((nb_inputs, nb_hidden1),  device=device, dtype=dtype, requires_grad=True)\n",
    "torch.nn.init.normal_(w1, mean=0.0, std=weight_scale/np.sqrt(nb_inputs))\n",
    "\n",
    "w2 = torch.empty((nb_hidden1, nb_hidden2), device=device, dtype=dtype, requires_grad=True)\n",
    "torch.nn.init.normal_(w2, mean=0.0, std=weight_scale/np.sqrt(nb_hidden1))\n",
    "\n",
    "w3 = torch.empty((nb_hidden2, nb_hidden3), device=device, dtype=dtype, requires_grad=True)\n",
    "torch.nn.init.normal_(w3, mean=0.0, std=weight_scale/np.sqrt(nb_hidden2))\n",
    "\n",
    "w4 = torch.empty((nb_hidden3, nb_outputs), device=device, dtype=dtype, requires_grad=True)\n",
    "torch.nn.init.normal_(w4, mean=0.0, std=weight_scale/np.sqrt(nb_hidden3))\n",
    "\n",
    "print(\"init done\")"
   ]
  },
  {
   "cell_type": "code",
   "execution_count": 20,
   "id": "247f5d06",
   "metadata": {},
   "outputs": [],
   "source": [
    "def plot_voltage_traces(mem, spk=None, dim=(3,5), spike_height=5):\n",
    "    gs=GridSpec(*dim)\n",
    "    if spk is not None:\n",
    "        dat = 1.0*mem\n",
    "        dat[spk>0.0] = spike_height\n",
    "        dat = dat.detach().cpu().numpy()\n",
    "    else:\n",
    "        dat = mem.detach().cpu().numpy()\n",
    "    for i in range(np.prod(dim)):\n",
    "        if i==0: a0=ax=plt.subplot(gs[i])\n",
    "        else: ax=plt.subplot(gs[i],sharey=a0)\n",
    "        ax.plot(dat[i])\n",
    "        ax.axis(\"off\")"
   ]
  },
  {
   "cell_type": "code",
   "execution_count": 21,
   "id": "8c4a9ae0",
   "metadata": {},
   "outputs": [],
   "source": [
    "class SurrGradSpike(torch.autograd.Function):\n",
    "    \"\"\"\n",
    "    Here we implement our spiking nonlinearity which also implements \n",
    "    the surrogate gradient. By subclassing torch.autograd.Function, \n",
    "    we will be able to use all of PyTorch's autograd functionality.\n",
    "    Here we use the normalized negative part of a fast sigmoid \n",
    "    as this was done in Zenke & Ganguli (2018).\n",
    "    \"\"\"\n",
    "    \n",
    "    scale = 100.0 # controls steepness of surrogate gradient\n",
    "\n",
    "    @staticmethod\n",
    "    def forward(ctx, input):\n",
    "        \"\"\"\n",
    "        In the forward pass we compute a step function of the input Tensor\n",
    "        and return it. ctx is a context object that we use to stash information which \n",
    "        we need to later backpropagate our error signals. To achieve this we use the \n",
    "        ctx.save_for_backward method.\n",
    "        \"\"\"\n",
    "        ctx.save_for_backward(input)\n",
    "        out = torch.zeros_like(input)\n",
    "        out[input > 0] = 1.0\n",
    "        return out\n",
    "\n",
    "    @staticmethod\n",
    "    def backward(ctx, grad_output):\n",
    "        \"\"\"\n",
    "        In the backward pass we receive a Tensor we need to compute the \n",
    "        surrogate gradient of the loss with respect to the input. \n",
    "        Here we use the normalized negative part of a fast sigmoid \n",
    "        as this was done in Zenke & Ganguli (2018).\n",
    "        \"\"\"\n",
    "        input, = ctx.saved_tensors\n",
    "        grad_input = grad_output.clone()\n",
    "        grad = grad_input/(SurrGradSpike.scale*torch.abs(input)+1.0)**2\n",
    "        return grad\n",
    "    \n",
    "# here we overwrite our naive spike function by the \"SurrGradSpike\" nonlinearity which implements a surrogate gradient\n",
    "spike_fn  = SurrGradSpike.apply"
   ]
  },
  {
   "cell_type": "code",
   "execution_count": 25,
   "id": "c5addcd1",
   "metadata": {},
   "outputs": [],
   "source": [
    "def run_snn(inputs, batch_size):\n",
    "\n",
    "    # Hidden layer 1\n",
    "    h1 = torch.einsum(\"abc,cd->abd\", (inputs, w1))\n",
    "    syn1 = torch.zeros((batch_size,nb_hidden1), device=device, dtype=dtype)\n",
    "    mem1 = torch.zeros((batch_size,nb_hidden1), device=device, dtype=dtype)\n",
    "    mem_rec1 = []\n",
    "    spk_rec1 = []\n",
    "    for t in range(nb_steps):\n",
    "        mthr = mem1-1.0\n",
    "        out = spike_fn(mthr)\n",
    "        rst = out.detach() # We do not want to backprop through the reset\n",
    "\n",
    "        new_syn = alpha*syn1 +h1[:,t]\n",
    "        new_mem = (beta*mem1 +syn1)*(1.0-rst)\n",
    "\n",
    "        mem_rec1.append(mem1)\n",
    "        spk_rec1.append(out)\n",
    "        \n",
    "        mem1 = new_mem\n",
    "        syn1 = new_syn\n",
    "\n",
    "    # Stack is from list to tensor, with desired dim\n",
    "    mem_rec1 = torch.stack(mem_rec1,dim=1)\n",
    "    spk_rec1 = torch.stack(spk_rec1,dim=1)\n",
    "\n",
    "    # Hidden layer 2\n",
    "    h2 = torch.einsum(\"abc,cd->abd\", (spk_rec1, w2))\n",
    "    syn2 = torch.zeros((batch_size,nb_hidden2), device=device, dtype=dtype)\n",
    "    mem2 = torch.zeros((batch_size,nb_hidden2), device=device, dtype=dtype)\n",
    "    mem_rec2 = []\n",
    "    spk_rec2 = []\n",
    "    for t in range(nb_steps):\n",
    "        mthr = mem2-1.0\n",
    "        out = spike_fn(mthr)\n",
    "        rst = out.detach() # We do not want to backprop through the reset\n",
    "\n",
    "        new_syn = alpha*syn2 +h2[:,t]\n",
    "        new_mem = (beta*mem2 +syn2)*(1.0-rst)\n",
    "\n",
    "        mem_rec2.append(mem2)\n",
    "        spk_rec2.append(out)\n",
    "        \n",
    "        mem2 = new_mem\n",
    "        syn2 = new_syn\n",
    "\n",
    "    mem_rec2 = torch.stack(mem_rec2,dim=1)\n",
    "    spk_rec2 = torch.stack(spk_rec2,dim=1)\n",
    "\n",
    "    # Hidden layer 3\n",
    "    h3 = torch.einsum(\"abc,cd->abd\", (spk_rec2, w3))\n",
    "    syn3 = torch.zeros((batch_size,nb_hidden3), device=device, dtype=dtype)\n",
    "    mem3 = torch.zeros((batch_size,nb_hidden3), device=device, dtype=dtype)\n",
    "    mem_rec3 = []\n",
    "    spk_rec3 = []\n",
    "    for t in range(nb_steps):\n",
    "        mthr = mem3-1.0\n",
    "        out = spike_fn(mthr)\n",
    "        rst = out.detach() # We do not want to backprop through the reset\n",
    "\n",
    "        new_syn = alpha*syn3 +h3[:,t]\n",
    "        new_mem = (beta*mem3 +syn3)*(1.0-rst)\n",
    "\n",
    "        mem_rec3.append(mem3)\n",
    "        spk_rec3.append(out)\n",
    "        \n",
    "        mem3 = new_mem\n",
    "        syn3 = new_syn\n",
    "\n",
    "    mem_rec3 = torch.stack(mem_rec3,dim=1)\n",
    "    spk_rec3 = torch.stack(spk_rec3,dim=1)\n",
    "    \n",
    "    # Output layer\n",
    "    h4= torch.einsum(\"abc,cd->abd\", (spk_rec3, w4))\n",
    "    flt = torch.zeros((batch_size,nb_outputs), device=device, dtype=dtype)\n",
    "    out = torch.zeros((batch_size,nb_outputs), device=device, dtype=dtype)\n",
    "    out_rec = [out]\n",
    "    for t in range(nb_steps):\n",
    "        new_flt = alpha*flt +h4[:,t]\n",
    "        new_out = beta*out +flt\n",
    "\n",
    "        flt = new_flt\n",
    "        out = new_out\n",
    "\n",
    "        out_rec.append(out)\n",
    "\n",
    "    out_rec = torch.stack(out_rec,dim=1)\n",
    "    other_recs = [mem_rec1, spk_rec1, mem_rec2, spk_rec2, mem_rec3, spk_rec3]\n",
    "    return out_rec, other_recs"
   ]
  },
  {
   "cell_type": "code",
   "execution_count": 28,
   "id": "2003a00d",
   "metadata": {},
   "outputs": [],
   "source": [
    "def train(x_train, y_train, x_val, y_val, lr=2e-3, nb_epochs=10):\n",
    "    params = [w1,w2,w3,w4]\n",
    "    optimizer = torch.optim.Adam(params, lr=lr, betas=(0.9,0.999))\n",
    "\n",
    "    log_softmax_fn = nn.LogSoftmax(dim=1)\n",
    "    loss_fn = nn.NLLLoss()\n",
    "    \n",
    "    loss_hist = []\n",
    "    accs_hist = []\n",
    "    lossv_hist = []\n",
    "    accsv_hist = []\n",
    "    for e in range(nb_epochs):\n",
    "        local_loss = []\n",
    "        local_accs = []\n",
    "        local_lossv = []\n",
    "        local_accsv = []\n",
    "        for x_local, y_local, x_val_local, y_val_local in sparse_data_generator(x_train, y_train, x_val, y_val, batch_size, nb_steps, nb_inputs):\n",
    "            \n",
    "            # training\n",
    "            output,_ = run_snn(x_local.to_dense(), batch_size)\n",
    "            m,_=torch.max(output,1)\n",
    "            log_p_y = log_softmax_fn(m)\n",
    "            loss_val = loss_fn(log_p_y, y_local)\n",
    "            _,am=torch.max(m,1)      # argmax over output units\n",
    "            tmp = np.mean((y_local==am).detach().cpu().numpy()) # compare to labels\n",
    "\n",
    "            optimizer.zero_grad()\n",
    "            loss_val.backward()\n",
    "            optimizer.step()\n",
    "            local_loss.append(loss_val.item())\n",
    "            local_accs.append(tmp)\n",
    "            \n",
    "            # validation\n",
    "            output_v,_ = run_snn(x_val_local.to_dense(), x_val_local.shape[0])\n",
    "            m_v,_=torch.max(output_v,1)\n",
    "            log_p_y_v = log_softmax_fn(m_v)\n",
    "            loss_val_v = loss_fn(log_p_y_v, y_val_local)\n",
    "            _,am_v=torch.max(m_v,1)      # argmax over output units\n",
    "            tmp_v = np.mean((y_val_local==am_v).detach().cpu().numpy()) # compare to labels\n",
    "            \n",
    "            local_lossv.append(loss_val_v.item())\n",
    "            local_accsv.append(tmp_v)\n",
    "        \n",
    "        # calculate the loss\n",
    "        mean_loss = np.mean(local_loss)\n",
    "        mean_accs = np.mean(local_accs)\n",
    "        mean_lossv = np.mean(local_lossv)\n",
    "        mean_accsv = np.mean(local_accsv)\n",
    "        print(\"Epoch %i: loss=%.5f accs=%.5f val_loss=%.5f val_accs=%.5f\"%(e+1,mean_loss, mean_accs, mean_lossv, mean_accsv))\n",
    "        \n",
    "        # add to loss history\n",
    "        loss_hist.append(mean_loss)\n",
    "        accs_hist.append(mean_accs)\n",
    "        lossv_hist.append(mean_lossv)\n",
    "        accsv_hist.append(mean_accsv)\n",
    "        \n",
    "    return loss_hist, accs_hist, lossv_hist, accsv_hist"
   ]
  },
  {
   "cell_type": "code",
   "execution_count": 29,
   "id": "d6016f25",
   "metadata": {},
   "outputs": [
    {
     "name": "stdout",
     "output_type": "stream",
     "text": [
      "Epoch 1: loss=2.85761 accs=0.29630 val_loss=2.86623 val_accs=0.29319\n",
      "Epoch 2: loss=2.71959 accs=0.32306 val_loss=2.72805 val_accs=0.31864\n",
      "Epoch 3: loss=2.62934 accs=0.33960 val_loss=2.64014 val_accs=0.33615\n",
      "Epoch 4: loss=2.56656 accs=0.34993 val_loss=2.57916 val_accs=0.34677\n",
      "Epoch 5: loss=2.52266 accs=0.35858 val_loss=2.53819 val_accs=0.35382\n",
      "Epoch 6: loss=2.48788 accs=0.36519 val_loss=2.50700 val_accs=0.36144\n",
      "Epoch 7: loss=2.45475 accs=0.37195 val_loss=2.47484 val_accs=0.36539\n",
      "Epoch 8: loss=2.44084 accs=0.37486 val_loss=2.45887 val_accs=0.37036\n",
      "Epoch 9: loss=2.42419 accs=0.37833 val_loss=2.44290 val_accs=0.37432\n",
      "Epoch 10: loss=2.40585 accs=0.38114 val_loss=2.42398 val_accs=0.37621\n",
      "Epoch 11: loss=2.38854 accs=0.38405 val_loss=2.40786 val_accs=0.38010\n"
     ]
    },
    {
     "ename": "KeyboardInterrupt",
     "evalue": "",
     "output_type": "error",
     "traceback": [
      "\u001b[0;31m---------------------------------------------------------------------------\u001b[0m",
      "\u001b[0;31mKeyboardInterrupt\u001b[0m                         Traceback (most recent call last)",
      "Input \u001b[0;32mIn [29]\u001b[0m, in \u001b[0;36m<cell line: 1>\u001b[0;34m()\u001b[0m\n\u001b[0;32m----> 1\u001b[0m loss_hist, accs_hist, lossv_hist, accsv_hist \u001b[38;5;241m=\u001b[39m \u001b[43mtrain\u001b[49m\u001b[43m(\u001b[49m\u001b[43mx_train\u001b[49m\u001b[43m,\u001b[49m\u001b[43m \u001b[49m\u001b[43my_train\u001b[49m\u001b[43m,\u001b[49m\u001b[43m \u001b[49m\u001b[43mx_val\u001b[49m\u001b[43m,\u001b[49m\u001b[43m \u001b[49m\u001b[43my_val\u001b[49m\u001b[43m,\u001b[49m\u001b[43m \u001b[49m\u001b[43mlr\u001b[49m\u001b[38;5;241;43m=\u001b[39;49m\u001b[38;5;241;43m2e-4\u001b[39;49m\u001b[43m,\u001b[49m\u001b[43m \u001b[49m\u001b[43mnb_epochs\u001b[49m\u001b[38;5;241;43m=\u001b[39;49m\u001b[38;5;241;43m30\u001b[39;49m\u001b[43m)\u001b[49m\n",
      "Input \u001b[0;32mIn [28]\u001b[0m, in \u001b[0;36mtrain\u001b[0;34m(x_train, y_train, x_val, y_val, lr, nb_epochs)\u001b[0m\n\u001b[1;32m     25\u001b[0m tmp \u001b[38;5;241m=\u001b[39m np\u001b[38;5;241m.\u001b[39mmean((y_local\u001b[38;5;241m==\u001b[39mam)\u001b[38;5;241m.\u001b[39mdetach()\u001b[38;5;241m.\u001b[39mcpu()\u001b[38;5;241m.\u001b[39mnumpy()) \u001b[38;5;66;03m# compare to labels\u001b[39;00m\n\u001b[1;32m     27\u001b[0m optimizer\u001b[38;5;241m.\u001b[39mzero_grad()\n\u001b[0;32m---> 28\u001b[0m \u001b[43mloss_val\u001b[49m\u001b[38;5;241;43m.\u001b[39;49m\u001b[43mbackward\u001b[49m\u001b[43m(\u001b[49m\u001b[43m)\u001b[49m\n\u001b[1;32m     29\u001b[0m optimizer\u001b[38;5;241m.\u001b[39mstep()\n\u001b[1;32m     30\u001b[0m local_loss\u001b[38;5;241m.\u001b[39mappend(loss_val\u001b[38;5;241m.\u001b[39mitem())\n",
      "File \u001b[0;32m~/miniconda3/envs/test/lib/python3.9/site-packages/torch/_tensor.py:396\u001b[0m, in \u001b[0;36mTensor.backward\u001b[0;34m(self, gradient, retain_graph, create_graph, inputs)\u001b[0m\n\u001b[1;32m    387\u001b[0m \u001b[38;5;28;01mif\u001b[39;00m has_torch_function_unary(\u001b[38;5;28mself\u001b[39m):\n\u001b[1;32m    388\u001b[0m     \u001b[38;5;28;01mreturn\u001b[39;00m handle_torch_function(\n\u001b[1;32m    389\u001b[0m         Tensor\u001b[38;5;241m.\u001b[39mbackward,\n\u001b[1;32m    390\u001b[0m         (\u001b[38;5;28mself\u001b[39m,),\n\u001b[0;32m   (...)\u001b[0m\n\u001b[1;32m    394\u001b[0m         create_graph\u001b[38;5;241m=\u001b[39mcreate_graph,\n\u001b[1;32m    395\u001b[0m         inputs\u001b[38;5;241m=\u001b[39minputs)\n\u001b[0;32m--> 396\u001b[0m \u001b[43mtorch\u001b[49m\u001b[38;5;241;43m.\u001b[39;49m\u001b[43mautograd\u001b[49m\u001b[38;5;241;43m.\u001b[39;49m\u001b[43mbackward\u001b[49m\u001b[43m(\u001b[49m\u001b[38;5;28;43mself\u001b[39;49m\u001b[43m,\u001b[49m\u001b[43m \u001b[49m\u001b[43mgradient\u001b[49m\u001b[43m,\u001b[49m\u001b[43m \u001b[49m\u001b[43mretain_graph\u001b[49m\u001b[43m,\u001b[49m\u001b[43m \u001b[49m\u001b[43mcreate_graph\u001b[49m\u001b[43m,\u001b[49m\u001b[43m \u001b[49m\u001b[43minputs\u001b[49m\u001b[38;5;241;43m=\u001b[39;49m\u001b[43minputs\u001b[49m\u001b[43m)\u001b[49m\n",
      "File \u001b[0;32m~/miniconda3/envs/test/lib/python3.9/site-packages/torch/autograd/__init__.py:173\u001b[0m, in \u001b[0;36mbackward\u001b[0;34m(tensors, grad_tensors, retain_graph, create_graph, grad_variables, inputs)\u001b[0m\n\u001b[1;32m    168\u001b[0m     retain_graph \u001b[38;5;241m=\u001b[39m create_graph\n\u001b[1;32m    170\u001b[0m \u001b[38;5;66;03m# The reason we repeat same the comment below is that\u001b[39;00m\n\u001b[1;32m    171\u001b[0m \u001b[38;5;66;03m# some Python versions print out the first line of a multi-line function\u001b[39;00m\n\u001b[1;32m    172\u001b[0m \u001b[38;5;66;03m# calls in the traceback and some print out the last line\u001b[39;00m\n\u001b[0;32m--> 173\u001b[0m \u001b[43mVariable\u001b[49m\u001b[38;5;241;43m.\u001b[39;49m\u001b[43m_execution_engine\u001b[49m\u001b[38;5;241;43m.\u001b[39;49m\u001b[43mrun_backward\u001b[49m\u001b[43m(\u001b[49m\u001b[43m  \u001b[49m\u001b[38;5;66;43;03m# Calls into the C++ engine to run the backward pass\u001b[39;49;00m\n\u001b[1;32m    174\u001b[0m \u001b[43m    \u001b[49m\u001b[43mtensors\u001b[49m\u001b[43m,\u001b[49m\u001b[43m \u001b[49m\u001b[43mgrad_tensors_\u001b[49m\u001b[43m,\u001b[49m\u001b[43m \u001b[49m\u001b[43mretain_graph\u001b[49m\u001b[43m,\u001b[49m\u001b[43m \u001b[49m\u001b[43mcreate_graph\u001b[49m\u001b[43m,\u001b[49m\u001b[43m \u001b[49m\u001b[43minputs\u001b[49m\u001b[43m,\u001b[49m\n\u001b[1;32m    175\u001b[0m \u001b[43m    \u001b[49m\u001b[43mallow_unreachable\u001b[49m\u001b[38;5;241;43m=\u001b[39;49m\u001b[38;5;28;43;01mTrue\u001b[39;49;00m\u001b[43m,\u001b[49m\u001b[43m \u001b[49m\u001b[43maccumulate_grad\u001b[49m\u001b[38;5;241;43m=\u001b[39;49m\u001b[38;5;28;43;01mTrue\u001b[39;49;00m\u001b[43m)\u001b[49m\n",
      "\u001b[0;31mKeyboardInterrupt\u001b[0m: "
     ]
    }
   ],
   "source": [
    "loss_hist, accs_hist, lossv_hist, accsv_hist = train(x_train, y_train, x_val, y_val, lr=2e-4, nb_epochs=30)"
   ]
  },
  {
   "cell_type": "code",
   "execution_count": 32,
   "id": "4e7808db",
   "metadata": {},
   "outputs": [],
   "source": [
    "torch.save(w1, '/userhome/cs2/u3556571/secondtry/result_5layer/w1.pt')"
   ]
  },
  {
   "cell_type": "code",
   "execution_count": 33,
   "id": "afda5434",
   "metadata": {},
   "outputs": [],
   "source": [
    "torch.save(w2, '/userhome/cs2/u3556571/secondtry/result_5layer/w2.pt')\n",
    "torch.save(w3, '/userhome/cs2/u3556571/secondtry/result_5layer/w3.pt')\n",
    "torch.save(w4, '/userhome/cs2/u3556571/secondtry/result_5layer/w4.pt')"
   ]
  },
  {
   "cell_type": "code",
   "execution_count": 41,
   "id": "d9cf610c",
   "metadata": {
    "scrolled": true
   },
   "outputs": [
    {
     "data": {
      "text/plain": [
       "'\\nEpoch 1: loss=2.85761 accs=0.29630 val_loss=2.86623 val_accs=0.29319\\nEpoch 2: loss=2.71959 accs=0.32306 val_loss=2.72805 val_accs=0.31864\\nEpoch 3: loss=2.62934 accs=0.33960 val_loss=2.64014 val_accs=0.33615\\nEpoch 4: loss=2.56656 accs=0.34993 val_loss=2.57916 val_accs=0.34677\\nEpoch 5: loss=2.52266 accs=0.35858 val_loss=2.53819 val_accs=0.35382\\nEpoch 6: loss=2.48788 accs=0.36519 val_loss=2.50700 val_accs=0.36144\\nEpoch 7: loss=2.45475 accs=0.37195 val_loss=2.47484 val_accs=0.36539\\nEpoch 8: loss=2.44084 accs=0.37486 val_loss=2.45887 val_accs=0.37036\\nEpoch 9: loss=2.42419 accs=0.37833 val_loss=2.44290 val_accs=0.37432\\nEpoch 10: loss=2.40585 accs=0.38114 val_loss=2.42398 val_accs=0.37621\\nEpoch 11: loss=2.38854 accs=0.38405 val_loss=2.40786 val_accs=0.38010\\n'"
      ]
     },
     "execution_count": 41,
     "metadata": {},
     "output_type": "execute_result"
    }
   ],
   "source": [
    "'''\n",
    "Epoch 1: loss=2.85761 accs=0.29630 val_loss=2.86623 val_accs=0.29319\n",
    "Epoch 2: loss=2.71959 accs=0.32306 val_loss=2.72805 val_accs=0.31864\n",
    "Epoch 3: loss=2.62934 accs=0.33960 val_loss=2.64014 val_accs=0.33615\n",
    "Epoch 4: loss=2.56656 accs=0.34993 val_loss=2.57916 val_accs=0.34677\n",
    "Epoch 5: loss=2.52266 accs=0.35858 val_loss=2.53819 val_accs=0.35382\n",
    "Epoch 6: loss=2.48788 accs=0.36519 val_loss=2.50700 val_accs=0.36144\n",
    "Epoch 7: loss=2.45475 accs=0.37195 val_loss=2.47484 val_accs=0.36539\n",
    "Epoch 8: loss=2.44084 accs=0.37486 val_loss=2.45887 val_accs=0.37036\n",
    "Epoch 9: loss=2.42419 accs=0.37833 val_loss=2.44290 val_accs=0.37432\n",
    "Epoch 10: loss=2.40585 accs=0.38114 val_loss=2.42398 val_accs=0.37621\n",
    "Epoch 11: loss=2.38854 accs=0.38405 val_loss=2.40786 val_accs=0.38010\n",
    "'''"
   ]
  },
  {
   "cell_type": "code",
   "execution_count": 3,
   "id": "c49b6ac2",
   "metadata": {},
   "outputs": [],
   "source": [
    "loss=[2.85761, 2.71959, 2.62934, 2.56656, 2.52266, 2.48788, 2.45475, 2.44084, 2.42419, 2.40585, 2.38854]\n",
    "\n",
    "accs=[0.29630, 0.32306, 0.33960, 0.34993, 0.35858, 0.36519, 0.37195, 0.37486, 0.37833, 0.38114, 0.38405]\n",
    "\n",
    "val_loss=[2.86623, 2.72805, 2.64014, 2.57916, 2.53819, 2.50700, 2.47484, 2.45887, 2.44290, 2.42398, 2.40786]\n",
    "\n",
    "val_accs=[0.29319, 0.31864, 0.33615, 0.34677, 0.35382, 0.36144, 0.36539, 0.37036, 0.37432, 0.37621, 0.38010]"
   ]
  },
  {
   "cell_type": "code",
   "execution_count": 7,
   "id": "4b513523",
   "metadata": {},
   "outputs": [
    {
     "data": {
      "image/png": "[encoded data removed]",
      "text/plain": [
       "<Figure size 640x480 with 1 Axes>"
      ]
     },
     "metadata": {},
     "output_type": "display_data"
    }
   ],
   "source": [
    "plt.plot(loss, label='Training loss')\n",
    "plt.plot(val_loss, label='Validation loss')\n",
    "plt.xlabel(\"Epoch\")\n",
    "plt.ylabel(\"Loss\")\n",
    "plt.legend()\n",
    "plt.show()"
   ]
  },
  {
   "cell_type": "code",
   "execution_count": 11,
   "id": "ff3f32ad",
   "metadata": {},
   "outputs": [
    {
     "data": {
      "image/png": "[encoded data removed]",
      "text/plain": [
       "<Figure size 640x480 with 1 Axes>"
      ]
     },
     "metadata": {},
     "output_type": "display_data"
    }
   ],
   "source": [
    "plt.plot(accs, label='Training accuracy')\n",
    "plt.plot(val_accs, label='Validation accuracy')\n",
    "plt.xlabel(\"Epoch\")\n",
    "plt.ylabel(\"Accuracy\")\n",
    "plt.legend()\n",
    "plt.show()"
   ]
  },
  {
   "cell_type": "code",
   "execution_count": 40,
   "id": "017a9796",
   "metadata": {
    "scrolled": true
   },
   "outputs": [
    {
     "name": "stdout",
     "output_type": "stream",
     "text": [
      "Training accuracy: 0.389\n",
      "Test accuracy: 0.385\n"
     ]
    }
   ],
   "source": [
    "print(\"Training accuracy: %.3f\"%(compute_classification_accuracy(x_train,y_train)))\n",
    "print(\"Test accuracy: %.3f\"%(compute_classification_accuracy(x_test,y_test)))"
   ]
  },
  {
   "cell_type": "code",
   "execution_count": 43,
   "id": "5f03b573",
   "metadata": {},
   "outputs": [
    {
     "data": {
      "image/png": "[encoded data removed]",
      "text/plain": [
       "<Figure size 495x300 with 1 Axes>"
      ]
     },
     "metadata": {},
     "output_type": "display_data"
    }
   ],
   "source": [
    "plt.figure(figsize=(3.3,2),dpi=150)\n",
    "plt.plot(loss_hist)\n",
    "plt.xlabel(\"Epoch\")\n",
    "plt.ylabel(\"Loss\")\n",
    "sns.despine()"
   ]
  },
  {
   "cell_type": "code",
   "execution_count": 39,
   "id": "c71c3a8c",
   "metadata": {},
   "outputs": [],
   "source": [
    "def compute_classification_accuracy(x_data, y_data):\n",
    "    \"\"\" Computes classification accuracy on supplied data in batches. \"\"\"\n",
    "    accs = []\n",
    "    for x_local, y_local,_,__ in sparse_data_generator(x_data, y_data, x_data, y_data, batch_size, nb_steps, nb_inputs, shuffle=False):\n",
    "        output,_ = run_snn(x_local.to_dense(), batch_size)\n",
    "        m,_= torch.max(output,1) # max over time\n",
    "        _,am=torch.max(m,1)      # argmax over output units\n",
    "        tmp = np.mean((y_local==am).detach().cpu().numpy()) # compare to labels\n",
    "        accs.append(tmp)\n",
    "    return np.mean(accs)"
   ]
  },
  {
   "cell_type": "code",
   "execution_count": 44,
   "id": "957c15b1",
   "metadata": {},
   "outputs": [
    {
     "name": "stdout",
     "output_type": "stream",
     "text": [
      "Training accuracy: 0.394\n",
      "Test accuracy: 0.388\n"
     ]
    }
   ],
   "source": [
    "print(\"Training accuracy: %.3f\"%(compute_classification_accuracy(x_train,y_train)))\n",
    "print(\"Test accuracy: %.3f\"%(compute_classification_accuracy(x_test,y_test)))"
   ]
  },
  {
   "cell_type": "code",
   "execution_count": 45,
   "id": "0a1d6ea8",
   "metadata": {},
   "outputs": [
    {
     "data": {
      "text/plain": [
       "torch.Tensor"
      ]
     },
     "execution_count": 45,
     "metadata": {},
     "output_type": "execute_result"
    }
   ],
   "source": [
    "type(w1)"
   ]
  },
  {
   "cell_type": "code",
   "execution_count": 47,
   "id": "97216844",
   "metadata": {},
   "outputs": [],
   "source": [
    "torch.save(w1, '/userhome/cs2/u3556571/secondtry/result1/w1.pt')"
   ]
  },
  {
   "cell_type": "code",
   "execution_count": 48,
   "id": "cbef439b",
   "metadata": {},
   "outputs": [],
   "source": [
    "torch.save(w2, '/userhome/cs2/u3556571/secondtry/result1/w2.pt')"
   ]
  },
  {
   "cell_type": "code",
   "execution_count": null,
   "id": "b12a4033",
   "metadata": {},
   "outputs": [],
   "source": []
  }
 ],
 "metadata": {
  "kernelspec": {
   "display_name": "Python 3 (ipykernel)",
   "language": "python",
   "name": "python3"
  },
  "language_info": {
   "codemirror_mode": {
    "name": "ipython",
    "version": 3
   },
   "file_extension": ".py",
   "mimetype": "text/x-python",
   "name": "python",
   "nbconvert_exporter": "python",
   "pygments_lexer": "ipython3",
   "version": "3.9.13"
  }
 },
 "nbformat": 4,
 "nbformat_minor": 5
}
